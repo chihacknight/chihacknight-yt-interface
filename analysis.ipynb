{
 "cells": [
  {
   "cell_type": "code",
   "execution_count": 1,
   "metadata": {
    "collapsed": true
   },
   "outputs": [],
   "source": [
    "from bs4 import BeautifulSoup\n",
    "import nltk\n",
    "import pandas as pd\n",
    "import matplotlib.pyplot as plt\n",
    "%matplotlib inline"
   ]
  },
  {
   "cell_type": "code",
   "execution_count": 3,
   "metadata": {
    "collapsed": true
   },
   "outputs": [],
   "source": [
    "# parse sample file\n",
    "datapath =''\n",
    "filename = \n",
    "soup = BeautifulSoup(open(datapath+ 'example_ttml.xml'), 'html.parser')\n",
    "result = [(p['begin'], p['end'], p.text) for p in soup.find_all('p')]"
   ]
  },
  {
   "cell_type": "code",
   "execution_count": 10,
   "metadata": {},
   "outputs": [
    {
     "data": {
      "text/plain": [
       "<?xml version=\"1.0\" encoding=\"utf-8\" ?>\\n<tt ttp:profile=\"http://www.w3.org/TR/profile/sdp-us\" xml:lang=\"en\" xmlns=\"http://www.w3.org/ns/ttml\" xmlns:ttm=\"http://www.w3.org/ns/ttml#metadata\" xmlns:ttp=\"http://www.w3.org/ns/ttml#parameter\" xmlns:tts=\"http://www.w3.org/ns/ttml#styling\">\\n<head>\\n<styling>\\n<style tts:displayalign=\"after\" tts:extent=\"90% 90%\" tts:origin=\"5% 5%\" tts:textalign=\"center\" xml:id=\"s1\"></style>\\n<style tts:backgroundcolor=\"black\" tts:color=\"white\" tts:fontsize=\".72c\" xml:id=\"s2\"></style>\\n<style tts:color=\"#E5E5E5\" xml:id=\"s3\"></style>\\n<style tts:color=\"#CCCCCC\" xml:id=\"s4\"></style>\\n</styling>\\n<layout>\\n<region style=\"s1\" xml:id=\"r1\"></region>\\n</layout>\\n</head>\\n<body region=\"r1\">\\n<div>\\n<p begin=\"00:00:00.620\" end=\"00:00:04.049\" style=\"s2\">though<span style=\"s3\"> many</span> have joined the stem</p>\\n<p begin=\"00:00:02.639\" end=\"00:00:05.910\" style=\"s2\">learning community and have brought many</p>\\n<p begin=\"00:00:04.049\" end=\"00:00:08.010\" style=\"s2\">improvements the whole program is still</p>\\n<p begin=\"00:00:05.910\" end=\"00:00:09.450\" style=\"s2\">very new if<span style=\"s3\"> I</span> were to<span style=\"s4\"> be</span> in the stem</p>\\n<p begin=\"00:00:08.010\" end=\"00:00:10.800\" style=\"s2\">community I think that I could allow a</p>\\n<p begin=\"00:00:09.450\" end=\"00:00:12.150\" style=\"s2\">large amount of growth in the field of</p>\\n<p begin=\"00:00:10.800\" end=\"00:00:14.759\" style=\"s2\">programming and connecting the web with</p>\\n<p begin=\"00:00:12.150\" end=\"00:00:16.049\" style=\"s2\"><span style=\"s3\">real world I have had several projects</span></p>\\n<p begin=\"00:00:14.759\" end=\"00:00:18.000\" style=\"s2\">that allow me to control and receive</p>\\n<p begin=\"00:00:16.049\" end=\"00:00:20.310\" style=\"s2\">feedback<span style=\"s3\"> from</span> our<span style=\"s4\"> website</span> to hardware</p>\\n<p begin=\"00:00:18.000\" end=\"00:00:22.199\" style=\"s2\">devices such as an<span style=\"s3\"> arduino</span> i also</p>\\n<p begin=\"00:00:20.310\" end=\"00:00:23.760\" style=\"s2\">created a homemade remote swivel camera</p>\\n<p begin=\"00:00:22.199\" end=\"00:00:26.340\" style=\"s2\">to watch stuff and things like him</p>\\n<p begin=\"00:00:23.760\" end=\"00:00:27.930\" style=\"s2\">still adjusting to my home i created a</p>\\n<p begin=\"00:00:26.340\" end=\"00:00:30.000\" style=\"s2\">python script on a<span style=\"s4\"> raspberry pi and</span></p>\\n<p begin=\"00:00:27.930\" end=\"00:00:31.949\" style=\"s2\">mounted a webcam on several allowing you</p>\\n<p begin=\"00:00:30.000\" end=\"00:00:34.739\" style=\"s2\">to remotely control the camera to get</p>\\n<p begin=\"00:00:31.949\" end=\"00:00:37.140\" style=\"s2\">better angles<span style=\"s3\"> i</span> also have plans<span style=\"s3\"> of</span> a</p>\\n<p begin=\"00:00:34.739\" end=\"00:00:38.820\" style=\"s2\">testing home automation system if I was</p>\\n<p begin=\"00:00:37.140\" end=\"00:00:41.040\" style=\"s2\">part of stem I can also try to<span style=\"s3\"> organize</span></p>\\n<p begin=\"00:00:38.820\" end=\"00:00:42.360\" style=\"s2\">information better there's a great</p>\\n<p begin=\"00:00:41.040\" end=\"00:00:44.070\" style=\"s2\">system for project management and</p>\\n<p begin=\"00:00:42.360\" end=\"00:00:45.989\" style=\"s2\">information management</p>\\n<p begin=\"00:00:44.070\" end=\"00:00:47.250\" style=\"s2\">and I<span style=\"s4\"> think</span><span style=\"s3\"> that</span> I could bring us a stem</p>\\n<p begin=\"00:00:45.989\" end=\"00:00:49.020\" style=\"s2\">to help everyone share the project's</p>\\n<p begin=\"00:00:47.250\" end=\"00:00:51.000\" style=\"s2\">steps and detailed information for</p>\\n<p begin=\"00:00:49.020\" end=\"00:00:52.770\" style=\"s2\">everyone's benefit I hope you can</p>\\n<p begin=\"00:00:51.000\" end=\"00:00:53.879\" style=\"s2\">consider my application and I hope for</p>\\n<p begin=\"00:00:52.770\" end=\"00:00:56.899\" style=\"s2\">the chance to bring<span style=\"s3\"> these</span> improvements</p>\\n<p begin=\"00:00:53.879\" end=\"00:00:56.899\" style=\"s2\">thank you</p>\\n</div>\\n</body>\\n</tt>\\n"
      ]
     },
     "execution_count": 10,
     "metadata": {},
     "output_type": "execute_result"
    }
   ],
   "source": [
    "soup"
   ]
  },
  {
   "cell_type": "markdown",
   "metadata": {},
   "source": [
    "## Analysis of word frequency (only considering nouns)"
   ]
  },
  {
   "cell_type": "code",
   "execution_count": 3,
   "metadata": {
    "collapsed": true
   },
   "outputs": [],
   "source": [
    "#text block\n",
    "raw= ' '.join([x[2] for x in result])"
   ]
  },
  {
   "cell_type": "code",
   "execution_count": 4,
   "metadata": {
    "collapsed": true
   },
   "outputs": [],
   "source": [
    "# tokenzie and position tagging using nltk library\n",
    "# http://www.nltk.org/book/ch05.html\n",
    "# to understand the meaning of tags: nltk.help.upenn_tagset()\n",
    "text = nltk.word_tokenize(raw)\n",
    "postags= nltk.pos_tag(text)"
   ]
  },
  {
   "cell_type": "code",
   "execution_count": 5,
   "metadata": {
    "collapsed": true
   },
   "outputs": [],
   "source": [
    "# turn the result into dataframe for the convenience of processing\n",
    "df = pd.DataFrame(postags,columns =['word','type'])"
   ]
  },
  {
   "cell_type": "code",
   "execution_count": 6,
   "metadata": {
    "collapsed": true
   },
   "outputs": [],
   "source": [
    "#filter words by type, only keeping nouns\n",
    "typepattern_prefix=['NN']\n",
    "mask = df.type.str.slice(0,2).isin(typepattern_prefix)\n",
    "filtered=df[mask]"
   ]
  },
  {
   "cell_type": "code",
   "execution_count": 7,
   "metadata": {},
   "outputs": [
    {
     "data": {
      "text/plain": [
       "<matplotlib.text.Text at 0x7fabddefc0f0>"
      ]
     },
     "execution_count": 7,
     "metadata": {},
     "output_type": "execute_result"
    },
    {
     "data": {
      "image/png": "[encoded data removed]",
      "text/plain": [
       "<matplotlib.figure.Figure at 0x7fabdd713b70>"
      ]
     },
     "metadata": {},
     "output_type": "display_data"
    }
   ],
   "source": [
    "# plot word frequency\n",
    "ax=filtered['word'].value_counts().sort_values(ascending=True).plot.barh(figsize=(5,10))\n",
    "ax.set_ylabel('counts')\n",
    "ax.set_title('Word frequency', fontsize=16)"
   ]
  },
  {
   "cell_type": "markdown",
   "metadata": {
    "collapsed": true
   },
   "source": [
    "## Analysis of speech speed on the video timeline"
   ]
  },
  {
   "cell_type": "code",
   "execution_count": 8,
   "metadata": {
    "collapsed": true
   },
   "outputs": [],
   "source": [
    "df2=pd.DataFrame(result, columns = ['sTimestamp','eTimestamp','words'])\n",
    "df2['sTimestamp']=pd.to_datetime(df2['sTimestamp'])\n",
    "df2['eTimestamp']=pd.to_datetime(df2['eTimestamp'])"
   ]
  },
  {
   "cell_type": "code",
   "execution_count": 9,
   "metadata": {
    "collapsed": true
   },
   "outputs": [],
   "source": [
    "from datetime import datetime, timedelta\n",
    "df2['durSeconds']= (df2['eTimestamp']-df2['sTimestamp'])/ timedelta(seconds=1)"
   ]
  },
  {
   "cell_type": "code",
   "execution_count": 10,
   "metadata": {
    "collapsed": true
   },
   "outputs": [],
   "source": [
    "df2['wordcounts']=df2.apply(lambda row: len(row['words'].split(' ')),axis='columns')"
   ]
  },
  {
   "cell_type": "code",
   "execution_count": 11,
   "metadata": {},
   "outputs": [
    {
     "data": {
      "text/html": [
       "<div>\n",
       "<style>\n",
       "    .dataframe thead tr:only-child th {\n",
       "        text-align: right;\n",
       "    }\n",
       "\n",
       "    .dataframe thead th {\n",
       "        text-align: left;\n",
       "    }\n",
       "\n",
       "    .dataframe tbody tr th {\n",
       "        vertical-align: top;\n",
       "    }\n",
       "</style>\n",
       "<table border=\"1\" class=\"dataframe\">\n",
       "  <thead>\n",
       "    <tr style=\"text-align: right;\">\n",
       "      <th></th>\n",
       "      <th>sTimestamp</th>\n",
       "      <th>eTimestamp</th>\n",
       "      <th>words</th>\n",
       "      <th>durSeconds</th>\n",
       "      <th>wordcounts</th>\n",
       "    </tr>\n",
       "  </thead>\n",
       "  <tbody>\n",
       "    <tr>\n",
       "      <th>22</th>\n",
       "      <td>2017-08-28 00:00:42.360</td>\n",
       "      <td>2017-08-28 00:00:45.989</td>\n",
       "      <td>information management</td>\n",
       "      <td>3.629</td>\n",
       "      <td>2</td>\n",
       "    </tr>\n",
       "  </tbody>\n",
       "</table>\n",
       "</div>"
      ],
      "text/plain": [
       "                sTimestamp              eTimestamp                   words  \\\n",
       "22 2017-08-28 00:00:42.360 2017-08-28 00:00:45.989  information management   \n",
       "\n",
       "    durSeconds  wordcounts  \n",
       "22       3.629           2  "
      ]
     },
     "execution_count": 11,
     "metadata": {},
     "output_type": "execute_result"
    }
   ],
   "source": [
    "df2.sample()"
   ]
  },
  {
   "cell_type": "code",
   "execution_count": 12,
   "metadata": {},
   "outputs": [
    {
     "name": "stdout",
     "output_type": "stream",
     "text": [
      "--------slowest spoken line:----------------\n",
      "sTimestamp          2017-08-28 00:00:42.360000\n",
      "eTimestamp          2017-08-28 00:00:45.989000\n",
      "words                   information management\n",
      "durSeconds                               3.629\n",
      "wordcounts                                   2\n",
      "speechSpeed                           0.551116\n",
      "offsetVideoStart                         41.74\n",
      "Name: 22, dtype: object\n",
      "--------fastest spoken line:----------------\n",
      "sTimestamp                        2017-08-28 00:00:44.070000\n",
      "eTimestamp                        2017-08-28 00:00:47.250000\n",
      "words               and I think that I could bring us a stem\n",
      "durSeconds                                              3.18\n",
      "wordcounts                                                10\n",
      "speechSpeed                                          3.14465\n",
      "offsetVideoStart                                       43.45\n",
      "Name: 23, dtype: object\n"
     ]
    }
   ],
   "source": [
    "#fastest and slowest line by speech speed\n",
    "df2['speechSpeed']=df2['wordcounts']/df2['durSeconds']\n",
    "\n",
    "vStart=min(df2['sTimestamp'])\n",
    "df2['offsetVideoStart'] = (df2['sTimestamp']-vStart)/timedelta(seconds=1)\n",
    "\n",
    "print('--------slowest spoken line:----------------')\n",
    "print(df2.sort_values(by=['speechSpeed']).iloc[0])\n",
    "print('--------fastest spoken line:----------------')\n",
    "print(df2.sort_values(by=['speechSpeed']).iloc[-1])"
   ]
  },
  {
   "cell_type": "code",
   "execution_count": 13,
   "metadata": {},
   "outputs": [
    {
     "data": {
      "text/plain": [
       "<matplotlib.text.Annotation at 0x7fabdb6c1908>"
      ]
     },
     "execution_count": 13,
     "metadata": {},
     "output_type": "execute_result"
    },
    {
     "data": {
      "image/png": "[encoded data removed]",
      "text/plain": [
       "<matplotlib.figure.Figure at 0x7fabdddf9240>"
      ]
     },
     "metadata": {},
     "output_type": "display_data"
    }
   ],
   "source": [
    "#fastest and slowest line by speech speed\n",
    "fig=plt.figure(figsize=(12,5))\n",
    "ax=fig.add_subplot(111)\n",
    "df2['speechSpeed']=df2['wordcounts']/df2['durSeconds']\n",
    "\n",
    "ax.plot(df2['offsetVideoStart'],df2['speechSpeed'],'--')\n",
    "ax.set_ylabel('words / second')\n",
    "ax.set_xlabel('time from the start of the video (seconds)')\n",
    "\n",
    "ax.annotate('\\\"and I think that I could bring us a stem\\\"',\n",
    "            xy=(43.45, 3.14465), xycoords='data',\n",
    "            xytext=(-30, -20), textcoords='offset points',\n",
    "            arrowprops=dict(facecolor='black', shrink=0.05),\n",
    "            horizontalalignment='right', verticalalignment='top', size=14)\n",
    "\n",
    "ax.annotate('\\\"information management\\\"',\n",
    "            xy=(41.74, 0.551116), xycoords='data',\n",
    "            xytext=(-30, 20), textcoords='offset points',\n",
    "            arrowprops=dict(facecolor='black', shrink=0.05),\n",
    "            horizontalalignment='right', verticalalignment='bottom', size=14)"
   ]
  },
  {
   "cell_type": "markdown",
   "metadata": {},
   "source": [
    "## search for sentences"
   ]
  },
  {
   "cell_type": "code",
   "execution_count": 15,
   "metadata": {},
   "outputs": [
    {
     "data": {
      "text/plain": [
       "30"
      ]
     },
     "execution_count": 15,
     "metadata": {},
     "output_type": "execute_result"
    }
   ],
   "source": [
    "len(df2)"
   ]
  },
  {
   "cell_type": "code",
   "execution_count": 16,
   "metadata": {},
   "outputs": [
    {
     "data": {
      "text/plain": [
       "\"though many have joined the stem learning community and have brought many improvements the whole program is still very new if I were to be in the stem community I think that I could allow a large amount of growth in the field of programming and connecting the web with real world I have had several projects that allow me to control and receive feedback from our website to hardware devices such as an arduino i also created a homemade remote swivel camera to watch stuff and things like him still adjusting to my home i created a python script on a raspberry pi and mounted a webcam on several allowing you to remotely control the camera to get better angles i also have plans of a testing home automation system if I was part of stem I can also try to organize information better there's a great system for project management and information management and I think that I could bring us a stem to help everyone share the project's steps and detailed information for everyone's benefit I hope you can consider my application and I hope for the chance to bring these improvements thank you\""
      ]
     },
     "execution_count": 16,
     "metadata": {},
     "output_type": "execute_result"
    }
   ],
   "source": [
    "' '.join(df2[\"words\"])"
   ]
  },
  {
   "cell_type": "code",
   "execution_count": 20,
   "metadata": {},
   "outputs": [
    {
     "name": "stdout",
     "output_type": "stream",
     "text": [
      "(519, 583) i created a python script on a raspberry pi and mounted a webcam\n",
      "                sTimestamp                                     words\n",
      "13 2017-08-28 00:00:23.760    still adjusting to my home i created a\n",
      "14 2017-08-28 00:00:26.340       python script on a raspberry pi and\n",
      "15 2017-08-28 00:00:27.930  mounted a webcam on several allowing you\n"
     ]
    }
   ],
   "source": [
    "#examples of search for a sentence\n",
    "\n",
    "from re import finditer\n",
    "    \n",
    "#test1\n",
    "#searchWords = 'hardware devices'\n",
    "\n",
    "#test2\n",
    "searchWords = 'i created a python script on a raspberry pi and mounted a webcam'\n",
    "\n",
    "for match in finditer(searchWords, ' '.join(df2[\"words\"].str.strip())):\n",
    "    #print matches \n",
    "    print(match.span(), match.group())\n",
    "    \n",
    "    startPos = match.span()[0]\n",
    "    endPos = match.span()[1]\n",
    "    \n",
    "    #find the line indexes of the start and end position of each match\n",
    "    startLineIdx=-1\n",
    "    endLineIdx=-1\n",
    "    pos= 0\n",
    "    for index, row in df2.iterrows():\n",
    "        pos += len(row[\"words\"].strip())+1 # 1 is the space added between lines\n",
    "        if startLineIdx ==-1 and startPos<pos:\n",
    "            startLineIdx=index\n",
    "        if endLineIdx==-1 and endPos<pos:\n",
    "            endLineIdx = index\n",
    "        if startLineIdx>0 and endLineIdx>0:\n",
    "            break\n",
    "    \n",
    "    #verify \n",
    "    print(df2.loc[startLineIdx:endLineIdx,[\"sTimestamp\",\"words\"]])\n",
    "        "
   ]
  },
  {
   "cell_type": "code",
   "execution_count": null,
   "metadata": {
    "collapsed": true
   },
   "outputs": [],
   "source": []
  }
 ],
 "metadata": {
  "kernelspec": {
   "display_name": "Python 2",
   "language": "python",
   "name": "python2"
  },
  "language_info": {
   "codemirror_mode": {
    "name": "ipython",
    "version": 2
   },
   "file_extension": ".py",
   "mimetype": "text/x-python",
   "name": "python",
   "nbconvert_exporter": "python",
   "pygments_lexer": "ipython2",
   "version": "2.7.13"
  }
 },
 "nbformat": 4,
 "nbformat_minor": 2
}
